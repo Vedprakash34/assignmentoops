{
 "cells": [
  {
   "cell_type": "code",
   "execution_count": 7,
   "id": "9304dbbc-e6c7-4ecc-98ce-1268dbbe976a",
   "metadata": {},
   "outputs": [],
   "source": [
    "#qn01\n",
    "# opps provide the class and objects , objects is maked inside class\n",
    "# ex\n",
    "class add:\n",
    "    def __init__(self,x,y):\n",
    "        self.x=x\n",
    "        self.y=y\n",
    "    def display(self):\n",
    "        \n",
    "        return self.x+self.y\n",
    "        "
   ]
  },
  {
   "cell_type": "code",
   "execution_count": 8,
   "id": "2ce4cd0e-4213-48cd-ba9d-5ef445ea1c71",
   "metadata": {},
   "outputs": [],
   "source": [
    "first=add(8,7)"
   ]
  },
  {
   "cell_type": "code",
   "execution_count": 9,
   "id": "ec5e8c63-ead1-4b87-9000-d3e7061052cf",
   "metadata": {},
   "outputs": [
    {
     "data": {
      "text/plain": [
       "15"
      ]
     },
     "execution_count": 9,
     "metadata": {},
     "output_type": "execute_result"
    }
   ],
   "source": [
    "first.display()"
   ]
  },
  {
   "cell_type": "code",
   "execution_count": 10,
   "id": "df25d64f-aea7-44d9-9580-d6928e0aa7e8",
   "metadata": {},
   "outputs": [],
   "source": [
    "#qno2.\n",
    "# the four pillar in oops is inheritance,polymorphism,encapsulation and abstraction\n"
   ]
  },
  {
   "cell_type": "code",
   "execution_count": 20,
   "id": "8f277f04-ca60-46fb-8085-c84af37beb9a",
   "metadata": {},
   "outputs": [],
   "source": [
    "#qno 3\n",
    "#__init__ is used as a constructor\n",
    "# in oops constructor is used for to construct the data or object\n",
    "#ex\n",
    "class init:\n",
    "    def __init__(self,l): # __init__ is constructor\n",
    "        self.l=l\n",
    "    def disp(self):\n",
    "        return self.l**2\n",
    "            \n",
    "            \n",
    "    \n",
    "            "
   ]
  },
  {
   "cell_type": "code",
   "execution_count": 22,
   "id": "5b8b8435-2c91-48c4-b829-90554edd5fd0",
   "metadata": {},
   "outputs": [
    {
     "data": {
      "text/plain": [
       "25"
      ]
     },
     "execution_count": 22,
     "metadata": {},
     "output_type": "execute_result"
    }
   ],
   "source": [
    "alakh=init(5)\n",
    "alakh.disp()\n"
   ]
  },
  {
   "cell_type": "code",
   "execution_count": null,
   "id": "02626220-596e-4d7d-bf74-b7353e36d822",
   "metadata": {},
   "outputs": [],
   "source": [
    "#qno4\n",
    "# self is used in opps to extract the data, function and  objects in class"
   ]
  }
 ],
 "metadata": {
  "kernelspec": {
   "display_name": "Python 3 (ipykernel)",
   "language": "python",
   "name": "python3"
  },
  "language_info": {
   "codemirror_mode": {
    "name": "ipython",
    "version": 3
   },
   "file_extension": ".py",
   "mimetype": "text/x-python",
   "name": "python",
   "nbconvert_exporter": "python",
   "pygments_lexer": "ipython3",
   "version": "3.10.8"
  }
 },
 "nbformat": 4,
 "nbformat_minor": 5
}
